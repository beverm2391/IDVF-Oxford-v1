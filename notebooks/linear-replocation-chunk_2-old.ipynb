{
 "cells": [
  {
   "cell_type": "code",
   "execution_count": 1,
   "metadata": {},
   "outputs": [],
   "source": [
    "import numpy as np\n",
    "from scipy.stats import mstats"
   ]
  },
  {
   "cell_type": "code",
   "execution_count": null,
   "metadata": {},
   "outputs": [],
   "source": [
    "# Winsorize to the 1st and 99th percentile\n",
    "def normalize(x, levels=[0.01, 0.01]):\n",
    "    y = np.empty_like(x) # Create an empty array with the same shape and type as x\n",
    "    if len(y.shape) == 3: # Handle 3D arrays\n",
    "        for i in range(x.shape[-1]): # Winsorize each 2D slice along the last axis of the 3D array\n",
    "            y[:,:,i] = mstats.winsorize(x[:,:,i], levels) # Trim the data at 1% on both the low and high ends of the data distribution\n",
    "    else: # Handle 2D arrays\n",
    "        for i in range(x.shape[-1]): # Winsorize each column of the 2D array\n",
    "            y[:,i] = mstats.winsorize(x[:,i], levels) # Trim the data at 1% on both the low and high ends of the data distribution\n",
    "    return y"
   ]
  },
  {
   "cell_type": "code",
   "execution_count": 3,
   "metadata": {},
   "outputs": [],
   "source": [
    "def normalize_V2(x, levels=[0.01, 0.01]):\n",
    "    \"\"\"New windsorize function that works with 2D and 3D arrays, updated for readability\"\"\"\n",
    "    # Define a function to winsorize a 1D array\n",
    "    def winsorize_1d(arr):\n",
    "        return mstats.winsorize(arr, levels)\n",
    "\n",
    "    # Determine the axis along which to apply the winsorize function\n",
    "    # - For 2D arrays, apply along axis 0 (columns)\n",
    "    # - For 3D arrays, apply along axis 1 (rows within each 2D slice)\n",
    "    axis = 1 if len(x.shape) == 3 else 0\n",
    "\n",
    "    # Apply the winsorize function along the specified axis\n",
    "    y = np.apply_along_axis(winsorize_1d, axis, x)\n",
    "\n",
    "    return y"
   ]
  },
  {
   "cell_type": "code",
   "execution_count": null,
   "metadata": {},
   "outputs": [],
   "source": [
    "class RollingPredict:\n",
    "    def __init__(self):\n",
    "        pass"
   ]
  }
 ],
 "metadata": {
  "kernelspec": {
   "display_name": "venv",
   "language": "python",
   "name": "python3"
  },
  "language_info": {
   "codemirror_mode": {
    "name": "ipython",
    "version": 3
   },
   "file_extension": ".py",
   "mimetype": "text/x-python",
   "name": "python",
   "nbconvert_exporter": "python",
   "pygments_lexer": "ipython3",
   "version": "3.10.0"
  }
 },
 "nbformat": 4,
 "nbformat_minor": 2
}
