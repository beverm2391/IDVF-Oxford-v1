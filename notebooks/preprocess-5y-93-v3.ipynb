{
 "cells": [
  {
   "cell_type": "code",
   "execution_count": 5,
   "metadata": {},
   "outputs": [],
   "source": [
    "import pandas as pd\n",
    "from typing import List\n",
    "from datetime import datetime\n",
    "import numpy as np\n",
    "\n",
    "from lib.utils import get_nyse_date_tups, get_oxford_dfs"
   ]
  },
  {
   "cell_type": "code",
   "execution_count": 2,
   "metadata": {},
   "outputs": [],
   "source": [
    "start, end = '2018-10-11', '2023-10-09'\n",
    "unix_tups = get_nyse_date_tups(start, end, unix=True)"
   ]
  },
  {
   "cell_type": "code",
   "execution_count": 3,
   "metadata": {},
   "outputs": [],
   "source": [
    "dfs = get_oxford_dfs()"
   ]
  },
  {
   "cell_type": "code",
   "execution_count": 4,
   "metadata": {},
   "outputs": [],
   "source": [
    "def filter_market_hours(dfs):\n",
    "    market_hours = []\n",
    "    # outside_hours = [] \n",
    "    for df in dfs: # no list comp for clarity\n",
    "        df['datetime'] = pd.to_datetime(df['t'], utc=True, unit='ms').dt.tz_convert('America/New_York') # convert unix to datetime\n",
    "        # this bool has to be NON-INCLUSIVE of the end time else later the resampler will create a 7th interval just to hold trades exactly at 4pm\n",
    "        bool_ = (df['datetime'].dt.time >= pd.to_datetime('09:30:00').time()) & (df['datetime'].dt.time < pd.to_datetime('16:00:00').time()) # 9:30am - 4pm\n",
    "        market_hours.append(df[bool_].reset_index(drop=True))\n",
    "        # outside_hours.append(df[~bool_].reset_index(drop=True))\n",
    "    return market_hours\n",
    "\n",
    "market_hours = filter_market_hours(dfs)"
   ]
  },
  {
   "cell_type": "code",
   "execution_count": 7,
   "metadata": {},
   "outputs": [],
   "source": [
    "unique_days = 1256 # 5 years of trading days"
   ]
  },
  {
   "cell_type": "code",
   "execution_count": 49,
   "metadata": {},
   "outputs": [],
   "source": [
    "test = market_hours[0].copy()"
   ]
  },
  {
   "cell_type": "code",
   "execution_count": 54,
   "metadata": {},
   "outputs": [],
   "source": [
    "def agg_rv(df: pd.DataFrame):\n",
    "    \"\"\"Aggregate RV over 65 minute intervals each day, offset by 9:30am\"\"\"\n",
    "\n",
    "    def _rv(x: pd.Series):\n",
    "        \"\"\"RV over a single window/bin of time\"\"\"\n",
    "        log_returns = np.log(x / x.shift(1))\n",
    "        squared_log_returns = log_returns ** 2\n",
    "        rv = np.log(squared_log_returns.sum() + 1e-16)\n",
    "        return rv\n",
    "\n",
    "    # group by day, resample to 65T intervals, offset by 9:30am, label left\n",
    "    out = df.set_index('datetime').groupby(pd.Grouper(freq='D'))\\\n",
    "        .resample('65T', offset='9H30T', label='right')\\\n",
    "        .agg({\"c\" : _rv}) # apply rv to each bin\n",
    "    out.index = out.index.droplevel(0) # drop the day index\n",
    "    out.reset_index(inplace=True) # make datetime a column again\n",
    "    out.rename(columns={'c': 'rv'}, inplace=True) # rename the rv column\n",
    "    return out"
   ]
  },
  {
   "cell_type": "code",
   "execution_count": 55,
   "metadata": {},
   "outputs": [],
   "source": [
    "processed = agg_rv(test)"
   ]
  },
  {
   "cell_type": "code",
   "execution_count": 41,
   "metadata": {},
   "outputs": [],
   "source": [
    "processed.index = processed.index.droplevel(0)\n",
    "processed.reset_index(inplace=True)"
   ]
  },
  {
   "cell_type": "code",
   "execution_count": 57,
   "metadata": {},
   "outputs": [],
   "source": [
    "all_rv = [agg_rv(df) for df in market_hours]"
   ]
  },
  {
   "cell_type": "code",
   "execution_count": 61,
   "metadata": {},
   "outputs": [],
   "source": [
    "tickers = [df['ticker'].iloc[0] for df in dfs]"
   ]
  },
  {
   "cell_type": "code",
   "execution_count": 63,
   "metadata": {},
   "outputs": [],
   "source": [
    "base_path = \"/Users/beneverman/Documents/Coding/QuantHive/IDVF-Oxford-v1/data/processed-5yr-93-minute/raw_rv\"\n",
    "for idx, agg in enumerate(all_rv):\n",
    "    agg['ticker'] = tickers[idx]\n",
    "    path = f\"{base_path}/{tickers[idx]}_65min.csv\"\n",
    "    agg.to_csv(path, index=False)"
   ]
  },
  {
   "cell_type": "code",
   "execution_count": 64,
   "metadata": {},
   "outputs": [],
   "source": [
    "test_saved = pd.read_csv(f\"{base_path}/AAPL_65min.csv\", index_col=0)"
   ]
  },
  {
   "cell_type": "code",
   "execution_count": 65,
   "metadata": {},
   "outputs": [
    {
     "data": {
      "text/html": [
       "<div>\n",
       "<style scoped>\n",
       "    .dataframe tbody tr th:only-of-type {\n",
       "        vertical-align: middle;\n",
       "    }\n",
       "\n",
       "    .dataframe tbody tr th {\n",
       "        vertical-align: top;\n",
       "    }\n",
       "\n",
       "    .dataframe thead th {\n",
       "        text-align: right;\n",
       "    }\n",
       "</style>\n",
       "<table border=\"1\" class=\"dataframe\">\n",
       "  <thead>\n",
       "    <tr style=\"text-align: right;\">\n",
       "      <th></th>\n",
       "      <th>rv</th>\n",
       "      <th>ticker</th>\n",
       "    </tr>\n",
       "    <tr>\n",
       "      <th>datetime</th>\n",
       "      <th></th>\n",
       "      <th></th>\n",
       "    </tr>\n",
       "  </thead>\n",
       "  <tbody>\n",
       "    <tr>\n",
       "      <th>2018-10-11 10:35:00-04:00</th>\n",
       "      <td>-8.253303</td>\n",
       "      <td>AAPL</td>\n",
       "    </tr>\n",
       "    <tr>\n",
       "      <th>2018-10-11 11:40:00-04:00</th>\n",
       "      <td>-8.613353</td>\n",
       "      <td>AAPL</td>\n",
       "    </tr>\n",
       "    <tr>\n",
       "      <th>2018-10-11 12:45:00-04:00</th>\n",
       "      <td>-9.249611</td>\n",
       "      <td>AAPL</td>\n",
       "    </tr>\n",
       "    <tr>\n",
       "      <th>2018-10-11 13:50:00-04:00</th>\n",
       "      <td>-9.639190</td>\n",
       "      <td>AAPL</td>\n",
       "    </tr>\n",
       "    <tr>\n",
       "      <th>2018-10-11 14:55:00-04:00</th>\n",
       "      <td>-9.050998</td>\n",
       "      <td>AAPL</td>\n",
       "    </tr>\n",
       "  </tbody>\n",
       "</table>\n",
       "</div>"
      ],
      "text/plain": [
       "                                 rv ticker\n",
       "datetime                                  \n",
       "2018-10-11 10:35:00-04:00 -8.253303   AAPL\n",
       "2018-10-11 11:40:00-04:00 -8.613353   AAPL\n",
       "2018-10-11 12:45:00-04:00 -9.249611   AAPL\n",
       "2018-10-11 13:50:00-04:00 -9.639190   AAPL\n",
       "2018-10-11 14:55:00-04:00 -9.050998   AAPL"
      ]
     },
     "execution_count": 65,
     "metadata": {},
     "output_type": "execute_result"
    }
   ],
   "source": [
    "test_saved.head()"
   ]
  },
  {
   "cell_type": "code",
   "execution_count": 67,
   "metadata": {},
   "outputs": [],
   "source": [
    "mega_df = pd.DataFrame(all_rv[0]['datetime'])\n",
    "for df, ticker in zip(all_rv, tickers):\n",
    "    mega_df[ticker] = df['rv']"
   ]
  },
  {
   "cell_type": "code",
   "execution_count": 69,
   "metadata": {},
   "outputs": [],
   "source": [
    "mega_df.to_csv(\"/Users/beneverman/Documents/Coding/QuantHive/IDVF-Oxford-v1/data/processed-5yr-93-minute/65_min_rv.csv\")"
   ]
  }
 ],
 "metadata": {
  "kernelspec": {
   "display_name": "venv",
   "language": "python",
   "name": "python3"
  },
  "language_info": {
   "codemirror_mode": {
    "name": "ipython",
    "version": 3
   },
   "file_extension": ".py",
   "mimetype": "text/x-python",
   "name": "python",
   "nbconvert_exporter": "python",
   "pygments_lexer": "ipython3",
   "version": "3.10.0"
  }
 },
 "nbformat": 4,
 "nbformat_minor": 2
}
