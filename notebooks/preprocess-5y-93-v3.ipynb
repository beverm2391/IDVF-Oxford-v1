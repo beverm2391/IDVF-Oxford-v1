{
 "cells": [
  {
   "cell_type": "code",
   "execution_count": 9,
   "metadata": {},
   "outputs": [],
   "source": [
    "import pandas as pd\n",
    "from typing import List\n",
    "\n",
    "from lib.utils import get_nyse_date_tups, get_oxford_dfs"
   ]
  },
  {
   "cell_type": "code",
   "execution_count": 2,
   "metadata": {},
   "outputs": [],
   "source": [
    "start, end = '2018-10-11', '2023-10-09'\n",
    "unix_tups = get_nyse_date_tups(start, end, unix=True)"
   ]
  },
  {
   "cell_type": "code",
   "execution_count": 3,
   "metadata": {},
   "outputs": [],
   "source": [
    "dfs = get_oxford_dfs()"
   ]
  },
  {
   "cell_type": "code",
   "execution_count": 14,
   "metadata": {},
   "outputs": [],
   "source": [
    "def filter_market_hours(dfs):\n",
    "    market_hours = []\n",
    "    # outside_hours = [] \n",
    "    for df in dfs: # no list comp for clarity\n",
    "        df['datetime'] = pd.to_datetime(df['t'], utc=True, unit='ms').dt.tz_convert('America/New_York') # convert unix to datetime\n",
    "        # this bool has to be NON-INCLUSIVE of the end time else later the resampler will create a 7th interval just to hold trades exactly at 4pm\n",
    "        bool_ = (df['datetime'].dt.time >= pd.to_datetime('09:30:00').time()) & (df['datetime'].dt.time < pd.to_datetime('16:00:00').time()) # 9:30am - 4pm\n",
    "        market_hours.append(df[bool_].reset_index(drop=True))\n",
    "        # outside_hours.append(df[~bool_].reset_index(drop=True))\n",
    "    return market_hours\n",
    "\n",
    "market_hours = filter_market_hours(dfs)"
   ]
  },
  {
   "cell_type": "code",
   "execution_count": 7,
   "metadata": {},
   "outputs": [],
   "source": [
    "unique_days = 1256 # 5 years of trading days"
   ]
  },
  {
   "cell_type": "code",
   "execution_count": 10,
   "metadata": {},
   "outputs": [],
   "source": [
    "def create_aggs(df: pd.DataFrame):\n",
    "    aggs = df.set_index('datetime').groupby(pd.Grouper(freq='D'))\\\n",
    "        .resample('65T', offset='9H30T', label='left')\\\n",
    "        .agg({'o': 'first', 'h': 'max', 'l': 'min', 'c': 'last', 'v': 'sum'})\n",
    "    aggs.index = aggs.index.droplevel(0)\n",
    "    aggs.reset_index(inplace=True)\n",
    "    return aggs"
   ]
  },
  {
   "cell_type": "code",
   "execution_count": 15,
   "metadata": {},
   "outputs": [],
   "source": [
    "all_aggs = [create_aggs(df) for df in market_hours]"
   ]
  },
  {
   "cell_type": "code",
   "execution_count": 27,
   "metadata": {},
   "outputs": [],
   "source": [
    "formatted_aggs = []\n",
    "for df in all_aggs:\n",
    "    copy = df.copy()\n",
    "    copy.index = copy.index.droplevel(0)\n",
    "    copy.reset_index(inplace=True)\n",
    "    formatted_aggs.append(copy)"
   ]
  },
  {
   "cell_type": "code",
   "execution_count": 31,
   "metadata": {},
   "outputs": [],
   "source": [
    "tickers = [df['ticker'].iloc[0] for df in dfs]"
   ]
  },
  {
   "cell_type": "code",
   "execution_count": 32,
   "metadata": {},
   "outputs": [
    {
     "data": {
      "text/plain": [
       "['TMO',\n",
       " 'ABT',\n",
       " 'HD',\n",
       " 'MCD',\n",
       " 'PG',\n",
       " 'CAT',\n",
       " 'DIS',\n",
       " 'CCI',\n",
       " 'JNJ',\n",
       " 'KO',\n",
       " 'BA',\n",
       " 'LLY',\n",
       " 'BDX',\n",
       " 'FISV',\n",
       " 'BMY',\n",
       " 'TXN',\n",
       " 'CVS',\n",
       " 'MMM',\n",
       " 'PFE',\n",
       " 'GS',\n",
       " 'CL',\n",
       " 'LMT',\n",
       " 'NFLX',\n",
       " 'UPS',\n",
       " 'BSX',\n",
       " 'XOM',\n",
       " 'MO',\n",
       " 'SBUX',\n",
       " 'COP',\n",
       " 'WFC',\n",
       " 'PM',\n",
       " 'PEP',\n",
       " 'LOW',\n",
       " 'TGT',\n",
       " 'CI',\n",
       " 'CME',\n",
       " 'GE',\n",
       " 'NVDA',\n",
       " 'HON',\n",
       " 'GOOG',\n",
       " 'C',\n",
       " 'MSFT',\n",
       " 'PNC',\n",
       " 'AAPL',\n",
       " 'D',\n",
       " 'SCHW',\n",
       " 'MS',\n",
       " 'ADBE',\n",
       " 'QCOM',\n",
       " 'UNP',\n",
       " 'CSX',\n",
       " 'CMCSA',\n",
       " 'MRK',\n",
       " 'ISRG',\n",
       " 'V',\n",
       " 'CSCO',\n",
       " 'VZ',\n",
       " 'SYK',\n",
       " 'ACN',\n",
       " 'DHR',\n",
       " 'MA',\n",
       " 'NKE',\n",
       " 'MDT',\n",
       " 'INTC',\n",
       " 'BRK.B',\n",
       " 'CVX',\n",
       " 'DUK',\n",
       " 'TJX',\n",
       " 'BLK',\n",
       " 'GILD',\n",
       " 'MU',\n",
       " 'SO',\n",
       " 'AMT',\n",
       " 'ORCL',\n",
       " 'AMZN',\n",
       " 'FIS',\n",
       " 'T',\n",
       " 'UNH',\n",
       " 'BAC',\n",
       " 'JPM',\n",
       " 'USB',\n",
       " 'CRM',\n",
       " 'VRTX',\n",
       " 'COST',\n",
       " 'IBM',\n",
       " 'ADP',\n",
       " 'AVGO',\n",
       " 'WMT',\n",
       " 'AMGN',\n",
       " 'INTU',\n",
       " 'AXP',\n",
       " 'MMC',\n",
       " 'CB']"
      ]
     },
     "execution_count": 32,
     "metadata": {},
     "output_type": "execute_result"
    }
   ],
   "source": [
    "tickers"
   ]
  },
  {
   "cell_type": "code",
   "execution_count": 34,
   "metadata": {},
   "outputs": [],
   "source": [
    "base_path = \"/Users/beneverman/Documents/Coding/QuantHive/IDVF-Oxford-v1/data/processed-5yr-93-minute/raw_aggs\"\n",
    "for idx, agg in enumerate(formatted_aggs):\n",
    "    agg['ticker'] = tickers[idx]\n",
    "    path = f\"{base_path}/{tickers[idx]}_65min.csv\"\n",
    "    agg.to_csv(path, index=False)"
   ]
  },
  {
   "cell_type": "code",
   "execution_count": 37,
   "metadata": {},
   "outputs": [],
   "source": [
    "test_saved = pd.read_csv(f\"{base_path}/AAPL_65min.csv\", index_col=0)"
   ]
  },
  {
   "cell_type": "code",
   "execution_count": 42,
   "metadata": {},
   "outputs": [],
   "source": []
  },
  {
   "cell_type": "code",
   "execution_count": 45,
   "metadata": {},
   "outputs": [],
   "source": [
    "mega_df = pd.DataFrame(formatted_aggs[0]['datetime'])\n",
    "for df, ticker in zip(formatted_aggs, tickers):\n",
    "    mega_df[ticker] = df['c']"
   ]
  },
  {
   "cell_type": "code",
   "execution_count": 47,
   "metadata": {},
   "outputs": [],
   "source": [
    "mega_df.to_csv(\"/Users/beneverman/Documents/Coding/QuantHive/IDVF-Oxford-v1/data/processed-5yr-93-minute/65_min.csv\")"
   ]
  }
 ],
 "metadata": {
  "kernelspec": {
   "display_name": "venv",
   "language": "python",
   "name": "python3"
  },
  "language_info": {
   "codemirror_mode": {
    "name": "ipython",
    "version": 3
   },
   "file_extension": ".py",
   "mimetype": "text/x-python",
   "name": "python",
   "nbconvert_exporter": "python",
   "pygments_lexer": "ipython3",
   "version": "3.10.0"
  }
 },
 "nbformat": 4,
 "nbformat_minor": 2
}
