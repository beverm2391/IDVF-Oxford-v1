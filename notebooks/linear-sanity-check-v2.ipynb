{
 "cells": [
  {
   "cell_type": "code",
   "execution_count": 1,
   "metadata": {},
   "outputs": [],
   "source": [
    "import pandas as pd"
   ]
  },
  {
   "cell_type": "code",
   "execution_count": 5,
   "metadata": {},
   "outputs": [],
   "source": [
    "base_path = \"/Users/beneverman/Documents/Coding/QuantHive/IDVF-Oxford-v1/outputs/2023-10-16_17-58-24\"\n",
    "result = pd.read_csv(f\"{base_path}/result.csv\", index_col=0)\n",
    "report = pd.read_csv(f\"{base_path}/report.csv\", index_col=0)"
   ]
  },
  {
   "cell_type": "code",
   "execution_count": 6,
   "metadata": {},
   "outputs": [
    {
     "data": {
      "text/html": [
       "<div>\n",
       "<style scoped>\n",
       "    .dataframe tbody tr th:only-of-type {\n",
       "        vertical-align: middle;\n",
       "    }\n",
       "\n",
       "    .dataframe tbody tr th {\n",
       "        vertical-align: top;\n",
       "    }\n",
       "\n",
       "    .dataframe thead th {\n",
       "        text-align: right;\n",
       "    }\n",
       "</style>\n",
       "<table border=\"1\" class=\"dataframe\">\n",
       "  <thead>\n",
       "    <tr style=\"text-align: right;\">\n",
       "      <th></th>\n",
       "      <th>count</th>\n",
       "      <th>mean</th>\n",
       "      <th>std</th>\n",
       "      <th>min</th>\n",
       "      <th>25%</th>\n",
       "      <th>50%</th>\n",
       "      <th>75%</th>\n",
       "      <th>max</th>\n",
       "    </tr>\n",
       "  </thead>\n",
       "  <tbody>\n",
       "    <tr>\n",
       "      <th>count</th>\n",
       "      <td>186.0</td>\n",
       "      <td>186.000000</td>\n",
       "      <td>186.000000</td>\n",
       "      <td>186.000000</td>\n",
       "      <td>186.000000</td>\n",
       "      <td>186.000000</td>\n",
       "      <td>186.000000</td>\n",
       "      <td>186.000000</td>\n",
       "    </tr>\n",
       "    <tr>\n",
       "      <th>mean</th>\n",
       "      <td>4938.0</td>\n",
       "      <td>-8.810568</td>\n",
       "      <td>1.130267</td>\n",
       "      <td>-13.074552</td>\n",
       "      <td>-9.485304</td>\n",
       "      <td>-8.791920</td>\n",
       "      <td>-8.092106</td>\n",
       "      <td>-4.620385</td>\n",
       "    </tr>\n",
       "    <tr>\n",
       "      <th>std</th>\n",
       "      <td>0.0</td>\n",
       "      <td>0.494648</td>\n",
       "      <td>0.762169</td>\n",
       "      <td>2.490455</td>\n",
       "      <td>0.390243</td>\n",
       "      <td>0.412805</td>\n",
       "      <td>0.436917</td>\n",
       "      <td>0.855601</td>\n",
       "    </tr>\n",
       "    <tr>\n",
       "      <th>min</th>\n",
       "      <td>4938.0</td>\n",
       "      <td>-11.566669</td>\n",
       "      <td>0.881302</td>\n",
       "      <td>-36.841361</td>\n",
       "      <td>-10.267737</td>\n",
       "      <td>-9.599258</td>\n",
       "      <td>-8.945036</td>\n",
       "      <td>-6.540841</td>\n",
       "    </tr>\n",
       "    <tr>\n",
       "      <th>25%</th>\n",
       "      <td>4938.0</td>\n",
       "      <td>-9.086815</td>\n",
       "      <td>1.003151</td>\n",
       "      <td>-13.172663</td>\n",
       "      <td>-9.745810</td>\n",
       "      <td>-9.083001</td>\n",
       "      <td>-8.433999</td>\n",
       "      <td>-5.077750</td>\n",
       "    </tr>\n",
       "    <tr>\n",
       "      <th>50%</th>\n",
       "      <td>4938.0</td>\n",
       "      <td>-8.791482</td>\n",
       "      <td>1.052493</td>\n",
       "      <td>-12.815164</td>\n",
       "      <td>-9.498474</td>\n",
       "      <td>-8.809620</td>\n",
       "      <td>-8.121021</td>\n",
       "      <td>-4.753762</td>\n",
       "    </tr>\n",
       "    <tr>\n",
       "      <th>75%</th>\n",
       "      <td>4938.0</td>\n",
       "      <td>-8.489820</td>\n",
       "      <td>1.101430</td>\n",
       "      <td>-12.502678</td>\n",
       "      <td>-9.198073</td>\n",
       "      <td>-8.509661</td>\n",
       "      <td>-7.798430</td>\n",
       "      <td>-4.161614</td>\n",
       "    </tr>\n",
       "    <tr>\n",
       "      <th>max</th>\n",
       "      <td>4938.0</td>\n",
       "      <td>-7.547361</td>\n",
       "      <td>8.626231</td>\n",
       "      <td>-11.287636</td>\n",
       "      <td>-8.331698</td>\n",
       "      <td>-7.527162</td>\n",
       "      <td>-6.786256</td>\n",
       "      <td>-1.602379</td>\n",
       "    </tr>\n",
       "  </tbody>\n",
       "</table>\n",
       "</div>"
      ],
      "text/plain": [
       "        count        mean         std         min         25%         50%  \\\n",
       "count   186.0  186.000000  186.000000  186.000000  186.000000  186.000000   \n",
       "mean   4938.0   -8.810568    1.130267  -13.074552   -9.485304   -8.791920   \n",
       "std       0.0    0.494648    0.762169    2.490455    0.390243    0.412805   \n",
       "min    4938.0  -11.566669    0.881302  -36.841361  -10.267737   -9.599258   \n",
       "25%    4938.0   -9.086815    1.003151  -13.172663   -9.745810   -9.083001   \n",
       "50%    4938.0   -8.791482    1.052493  -12.815164   -9.498474   -8.809620   \n",
       "75%    4938.0   -8.489820    1.101430  -12.502678   -9.198073   -8.509661   \n",
       "max    4938.0   -7.547361    8.626231  -11.287636   -8.331698   -7.527162   \n",
       "\n",
       "              75%         max  \n",
       "count  186.000000  186.000000  \n",
       "mean    -8.092106   -4.620385  \n",
       "std      0.436917    0.855601  \n",
       "min     -8.945036   -6.540841  \n",
       "25%     -8.433999   -5.077750  \n",
       "50%     -8.121021   -4.753762  \n",
       "75%     -7.798430   -4.161614  \n",
       "max     -6.786256   -1.602379  "
      ]
     },
     "execution_count": 6,
     "metadata": {},
     "output_type": "execute_result"
    }
   ],
   "source": [
    "result.describe().T.describe()"
   ]
  },
  {
   "cell_type": "code",
   "execution_count": 8,
   "metadata": {},
   "outputs": [
    {
     "name": "stdout",
     "output_type": "stream",
     "text": [
      "0.240\n",
      "0.032\n"
     ]
    }
   ],
   "source": [
    "_dict = report.mean().to_dict()\n",
    "print(f\"{_dict['MSE']:0.3f}\")\n",
    "print(f\"{_dict['MAPE']:0.3f}\")"
   ]
  }
 ],
 "metadata": {
  "kernelspec": {
   "display_name": "venv",
   "language": "python",
   "name": "python3"
  },
  "language_info": {
   "codemirror_mode": {
    "name": "ipython",
    "version": 3
   },
   "file_extension": ".py",
   "mimetype": "text/x-python",
   "name": "python",
   "nbconvert_exporter": "python",
   "pygments_lexer": "ipython3",
   "version": "3.10.0"
  }
 },
 "nbformat": 4,
 "nbformat_minor": 2
}
