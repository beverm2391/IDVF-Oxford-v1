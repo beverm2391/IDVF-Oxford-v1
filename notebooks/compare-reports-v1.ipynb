{
 "cells": [
  {
   "cell_type": "code",
   "execution_count": 44,
   "metadata": {},
   "outputs": [],
   "source": [
    "import pandas as pd\n",
    "\n",
    "refac_path = \"/Users/beneverman/Documents/Coding/QuantHive/IDVF-Oxford-v1/outputs/linear-refactored-v1/2023-10-24_14-20-03\"\n",
    "acap_path = \"/Users/beneverman/Documents/Coding/QuantHive/IDVF-Oxford-v1/outputs/linear-as-close-as-possible-v2/2023-10-24_13-51-41\"\n",
    "\n",
    "acab_res = pd.read_csv(acap_path + \"/result.csv\", index_col=0)\n",
    "acab_report = pd.read_csv(acap_path + \"/report.csv\", index_col=0)\n",
    "\n",
    "refac_res = pd.read_csv(refac_path + \"/result.csv\", index_col=0)\n",
    "refac_report = pd.read_csv(refac_path + \"/report.csv\", index_col=0)"
   ]
  },
  {
   "cell_type": "code",
   "execution_count": 45,
   "metadata": {},
   "outputs": [
    {
     "name": "stdout",
     "output_type": "stream",
     "text": [
      "acab len: 4938\n",
      "refac len: 4938\n"
     ]
    }
   ],
   "source": [
    "print(f\"acab len: {len(acab_res)}\")\n",
    "print(f\"refac len: {len(refac_res)}\")"
   ]
  },
  {
   "cell_type": "code",
   "execution_count": 46,
   "metadata": {},
   "outputs": [
    {
     "data": {
      "text/plain": [
       "MSE         0.246966\n",
       "r2_score    0.707014\n",
       "MAPE        0.035290\n",
       "dtype: float64"
      ]
     },
     "execution_count": 46,
     "metadata": {},
     "output_type": "execute_result"
    }
   ],
   "source": [
    "acab_report.mean()"
   ]
  },
  {
   "cell_type": "code",
   "execution_count": 47,
   "metadata": {},
   "outputs": [
    {
     "data": {
      "text/plain": [
       "MSE         0.246966\n",
       "r2_score    0.707014\n",
       "MAPE        0.035290\n",
       "dtype: float64"
      ]
     },
     "execution_count": 47,
     "metadata": {},
     "output_type": "execute_result"
    }
   ],
   "source": [
    "refac_report.mean()"
   ]
  },
  {
   "cell_type": "code",
   "execution_count": 42,
   "metadata": {},
   "outputs": [],
   "source": [
    "diff = set((acab_res.index).tolist()) - set((refac_res.index).tolist())"
   ]
  },
  {
   "cell_type": "code",
   "execution_count": 43,
   "metadata": {},
   "outputs": [
    {
     "data": {
      "text/plain": [
       "{'2023-10-06 12:45:00-04:00',\n",
       " '2023-10-06 13:50:00-04:00',\n",
       " '2023-10-06 14:55:00-04:00',\n",
       " '2023-10-06 16:00:00-04:00',\n",
       " '2023-10-09 10:35:00-04:00',\n",
       " '2023-10-09 11:40:00-04:00',\n",
       " '2023-10-09 12:45:00-04:00',\n",
       " '2023-10-09 13:50:00-04:00',\n",
       " '2023-10-09 14:55:00-04:00'}"
      ]
     },
     "execution_count": 43,
     "metadata": {},
     "output_type": "execute_result"
    }
   ],
   "source": [
    "diff"
   ]
  }
 ],
 "metadata": {
  "kernelspec": {
   "display_name": "venv",
   "language": "python",
   "name": "python3"
  },
  "language_info": {
   "codemirror_mode": {
    "name": "ipython",
    "version": 3
   },
   "file_extension": ".py",
   "mimetype": "text/x-python",
   "name": "python",
   "nbconvert_exporter": "python",
   "pygments_lexer": "ipython3",
   "version": "3.10.0"
  }
 },
 "nbformat": 4,
 "nbformat_minor": 2
}
